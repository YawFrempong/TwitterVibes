{
 "cells": [
  {
   "cell_type": "markdown",
   "id": "8219d615",
   "metadata": {},
   "source": [
    "#### Import Dependencies"
   ]
  },
  {
   "cell_type": "code",
   "execution_count": 27,
   "id": "371713b1",
   "metadata": {},
   "outputs": [],
   "source": [
    "import pickle\n",
    "import pandas as pd\n",
    "import numpy as np\n",
    "from sklearn.feature_extraction.text import TfidfVectorizer\n",
    "from sklearn.model_selection import train_test_split\n",
    "from sklearn.svm import LinearSVC\n",
    "from sklearn.metrics import classification_report"
   ]
  },
  {
   "cell_type": "markdown",
   "id": "dd54a551",
   "metadata": {},
   "source": [
    "#### Load Data"
   ]
  },
  {
   "cell_type": "code",
   "execution_count": 3,
   "id": "0f9f2e9e",
   "metadata": {},
   "outputs": [],
   "source": [
    "df = pd.read_csv('twitter30k_cleaned.csv')"
   ]
  },
  {
   "cell_type": "markdown",
   "id": "0f8f3e21",
   "metadata": {},
   "source": [
    "#### Convert Text Data to Numeric Data"
   ]
  },
  {
   "cell_type": "code",
   "execution_count": 12,
   "id": "6291af89",
   "metadata": {},
   "outputs": [],
   "source": [
    "vectorizer = TfidfVectorizer(max_features=10000, ngram_range=(1,2))\n",
    "\n",
    "tweets = df['twitts']\n",
    "X = vectorizer.fit_transform(tweets)\n",
    "\n",
    "y = df['sentiment']"
   ]
  },
  {
   "cell_type": "markdown",
   "id": "f65730cf",
   "metadata": {},
   "source": [
    "#### Split Dataset"
   ]
  },
  {
   "cell_type": "code",
   "execution_count": 14,
   "id": "16132f7a",
   "metadata": {},
   "outputs": [],
   "source": [
    "X_train, X_test, y_train, y_test = train_test_split(X, y, test_size=0.2, random_state=0)"
   ]
  },
  {
   "cell_type": "markdown",
   "id": "f37cf1d5",
   "metadata": {},
   "source": [
    "#### Create Model"
   ]
  },
  {
   "cell_type": "code",
   "execution_count": 17,
   "id": "1965ef5a",
   "metadata": {},
   "outputs": [
    {
     "data": {
      "text/plain": [
       "LinearSVC()"
      ]
     },
     "execution_count": 17,
     "metadata": {},
     "output_type": "execute_result"
    }
   ],
   "source": [
    "model = LinearSVC()\n",
    "model.fit(X_train, y_train)"
   ]
  },
  {
   "cell_type": "markdown",
   "id": "95d4df23",
   "metadata": {},
   "source": [
    "#### Evaluate Model"
   ]
  },
  {
   "cell_type": "code",
   "execution_count": 19,
   "id": "4cc8b131",
   "metadata": {},
   "outputs": [],
   "source": [
    "y_pred = model.predict(X_test)"
   ]
  },
  {
   "cell_type": "code",
   "execution_count": 20,
   "id": "edd3cac7",
   "metadata": {},
   "outputs": [
    {
     "name": "stdout",
     "output_type": "stream",
     "text": [
      "              precision    recall  f1-score   support\n",
      "\n",
      "           0       0.76      0.73      0.74      3054\n",
      "           1       0.73      0.76      0.74      2946\n",
      "\n",
      "    accuracy                           0.74      6000\n",
      "   macro avg       0.74      0.74      0.74      6000\n",
      "weighted avg       0.74      0.74      0.74      6000\n",
      "\n"
     ]
    }
   ],
   "source": [
    "print(classification_report(y_test, y_pred))"
   ]
  },
  {
   "cell_type": "markdown",
   "id": "62eb7692",
   "metadata": {},
   "source": [
    "#### Inference"
   ]
  },
  {
   "cell_type": "code",
   "execution_count": 26,
   "id": "b0f35c1f",
   "metadata": {},
   "outputs": [
    {
     "name": "stdout",
     "output_type": "stream",
     "text": [
      "positive\n",
      "negative\n",
      "positive\n"
     ]
    }
   ],
   "source": [
    "test_input_1 = 'you won a prize, congrats'\n",
    "test_input_2 = 'I hate pineapple pizza. It is so gross'\n",
    "test_input_3 = 'I got into Harvard. I am pumped'\n",
    "\n",
    "input_vector = vectorizer.transform([test_input_1, test_input_2, test_input_3])\n",
    "\n",
    "output = model.predict(input_vector)\n",
    "\n",
    "mapping = {0:'negative', 1:'positive'}\n",
    "for key in output:\n",
    "    print(mapping[key])"
   ]
  },
  {
   "cell_type": "markdown",
   "id": "73c770c3",
   "metadata": {},
   "source": [
    "#### Save Model Weights"
   ]
  },
  {
   "cell_type": "code",
   "execution_count": 28,
   "id": "fee1d2b0",
   "metadata": {},
   "outputs": [],
   "source": [
    "pickle.dump(model, open('sentiment_model','wb'))"
   ]
  }
 ],
 "metadata": {
  "kernelspec": {
   "display_name": "Python 3 (ipykernel)",
   "language": "python",
   "name": "python3"
  },
  "language_info": {
   "codemirror_mode": {
    "name": "ipython",
    "version": 3
   },
   "file_extension": ".py",
   "mimetype": "text/x-python",
   "name": "python",
   "nbconvert_exporter": "python",
   "pygments_lexer": "ipython3",
   "version": "3.8.5"
  }
 },
 "nbformat": 4,
 "nbformat_minor": 5
}
