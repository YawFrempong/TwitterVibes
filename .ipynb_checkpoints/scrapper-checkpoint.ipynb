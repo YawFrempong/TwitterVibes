{
 "cells": [
  {
   "cell_type": "code",
   "execution_count": 3,
   "metadata": {},
   "outputs": [
    {
     "name": "stdout",
     "output_type": "stream",
     "text": [
      "jack\n",
      "UpdateTip: https://t.co/KgCwKKct46\n",
      "clean: UpdateTip:\n",
      "-------------------\n",
      "jack\n",
      "not sure anyone has heard but,\n",
      "\n",
      "I resigned from Twitter https://t.co/G5tUkSSxkl\n",
      "clean: not sure anyone has heard but,I resigned from Twitter\n",
      "-------------------\n",
      "jack\n",
      "I love twitter\n",
      "clean: I love twitter\n",
      "-------------------\n",
      "jack\n",
      "https://t.co/wQbP6bqibY\n",
      "clean: \n",
      "-------------------\n",
      "jack\n",
      "🙏🏼 https://t.co/HGqxLY6TQ6\n",
      "clean: \n",
      "-------------------\n",
      "jack\n",
      "We've been busy! We reviewed over 7,000 applications to get down to 6 candidates we're doing final interviews with soon. From that pool we choose 3 board members and we get going!\n",
      "clean: We've been busy! We reviewed over applications to get down to candidates we're doing final interviews with soon. From that pool we choose board members and we get going!\n",
      "-------------------\n",
      "jack\n",
      "First draft of white paper is up, and on GitHub: https://t.co/rn35B8gw6D https://t.co/RPZPyhlLin\n",
      "clean: First draft of white paper is up, and on GitHub:\n",
      "-------------------\n",
      "jack\n",
      "🌞\n",
      "clean: \n",
      "-------------------\n",
      "jack\n",
      "@jamesm98_ @ElliottWilson ❤️\n",
      "clean: \n",
      "-------------------\n",
      "jack\n",
      "@jamesm98_ @ElliottWilson What’s stopping you?\n",
      "clean: Whats stopping you?\n",
      "-------------------\n",
      "jack\n",
      "https://t.co/veAbcOruUq\n",
      "clean: \n",
      "-------------------\n"
     ]
    }
   ],
   "source": [
    "# importing libraries and packages\n",
    "import snscrape.modules.twitter as sntwitter\n",
    "import pandas\n",
    "import preprocessor as cleaner\n",
    "\n",
    "for i,tweet in enumerate(sntwitter.TwitterSearchScraper('from:jack').get_items()): #declare a username \n",
    "    if i>10: #number of tweets you want to scrape\n",
    "        break\n",
    "    print(tweet.user.username)\n",
    "    print(tweet.content)\n",
    "    print('clean:',cleaner.clean(tweet.content))\n",
    "    print('type:',type(cleaner.clean(tweet.content)))\n",
    "    print('-------------------')"
   ]
  },
  {
   "cell_type": "code",
   "execution_count": null,
   "metadata": {},
   "outputs": [],
   "source": []
  }
 ],
 "metadata": {
  "kernelspec": {
   "display_name": "Python 3 (ipykernel)",
   "language": "python",
   "name": "python3"
  },
  "language_info": {
   "codemirror_mode": {
    "name": "ipython",
    "version": 3
   },
   "file_extension": ".py",
   "mimetype": "text/x-python",
   "name": "python",
   "nbconvert_exporter": "python",
   "pygments_lexer": "ipython3",
   "version": "3.8.5"
  }
 },
 "nbformat": 4,
 "nbformat_minor": 4
}
